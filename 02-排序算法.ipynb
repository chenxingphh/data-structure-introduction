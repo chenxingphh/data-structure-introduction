{
 "cells": [
  {
   "cell_type": "code",
   "execution_count": null,
   "metadata": {},
   "outputs": [],
   "source": [
    "# -*- coding=utf-8 -*- \n",
    "'''\n",
    "@Author: Haihui Pan\n",
    "@Date: 2021/3/16\n",
    "@Ref: https://www.runoob.com/w3cnote/ten-sorting-algorithm.html\n",
    "'''"
   ]
  },
  {
   "cell_type": "markdown",
   "metadata": {},
   "source": [
    "# 排序算法"
   ]
  },
  {
   "cell_type": "markdown",
   "metadata": {},
   "source": [
    "主要的排序算法有八种<br>\n",
    "1-交换排序<br>\n",
    "&nbsp;1.1 冒泡排序<br>\n",
    "&nbsp;1.2 快速排序<br>\n",
    "2-插入排序<br>\n",
    "&nbsp;2.1 简单插入排序<br>\n",
    "&nbsp;2.2 希尔排序<br>\n",
    "3-选择排序<br>\n",
    "&nbsp;3.1 简单选择排序<br>\n",
    "&nbsp;3.2 堆排序<br>\n",
    "4-归并排序<br>\n",
    "5-计数排序\n",
    "\n",
    "性能指标：<br>\n",
    "时间复杂度：执行算法所需要的总操作次数<br>\n",
    "空间复杂度：执行算法是内存所需的存储空间<br>\n",
    "稳定性：两个相同大小的元素，在排序前后其相对位置不变；例如：若a=b,且a在b的前面，则排序后a仍在b前面，则称为稳定性"
   ]
  },
  {
   "cell_type": "markdown",
   "metadata": {},
   "source": [
    "# 交换排序"
   ]
  },
  {
   "cell_type": "markdown",
   "metadata": {},
   "source": [
    "## 冒泡排序"
   ]
  },
  {
   "cell_type": "markdown",
   "metadata": {},
   "source": [
    "思想<br>\n",
    "1-遍历序列，每次选择两个元素，如果前一个元素大于后一个元素，则进行交换；当完成遍历后，最后一个元素为最大值<br>\n",
    "2-重复step1直到没有元素交换后，则完成排序\n",
    "\n",
    "时间复杂度：O(n<sup>2</sup>)(每个元素平均要比较的次数为O(n),要比较n次)<br>\n",
    "空间复杂度：O(1)<br>\n",
    "稳定性：稳定"
   ]
  },
  {
   "cell_type": "code",
   "execution_count": 1,
   "metadata": {},
   "outputs": [
    {
     "name": "stdout",
     "output_type": "stream",
     "text": [
      "accept！\n"
     ]
    }
   ],
   "source": [
    "def bubble_sort(arr):\n",
    "    #长度校验\n",
    "    if len(arr)<=1:\n",
    "        return arr\n",
    "    \n",
    "    #用于标志是否有元素进行交换\n",
    "    is_swap=False\n",
    "    \n",
    "    while True:\n",
    "        for i in range(len(arr)-1):\n",
    "            if arr[i]>arr[i+1]:\n",
    "                #交换元素\n",
    "                arr[i],arr[i+1]=arr[i+1],arr[i]\n",
    "                is_swap=True\n",
    "                \n",
    "        #重新赋值用于下一个循环\n",
    "        if is_swap:\n",
    "            is_swap=False\n",
    "        else:\n",
    "            break\n",
    "        \n",
    "    return arr\n",
    "    \n",
    "def test():\n",
    "    test_arr=[4, 11, 11, 7, 0, 0, 6, 2, 2, 5, 3, 10, 2, 8, 9, 1]\n",
    "    test_arr_cpoy=test_arr.copy() #深复制\n",
    "    #内置算法进行排序\n",
    "    test_arr.sort()\n",
    "    assert test_arr==bubble_sort(test_arr_cpoy)\n",
    "    \n",
    "    test_arr=[4, 1, 4, 3, 8, 2, 8, 5, 8, 9]\n",
    "    test_arr_cpoy=test_arr.copy() \n",
    "    test_arr.sort()\n",
    "    assert test_arr==bubble_sort(test_arr_cpoy)\n",
    "    \n",
    "    test_arr=[4, 11, 11, 7, 12, 8, 86, 5, 3, 10, 2, 8, 9, 1]\n",
    "    test_arr_cpoy=test_arr.copy() \n",
    "    test_arr.sort()\n",
    "    assert test_arr==bubble_sort(test_arr_cpoy)\n",
    "    \n",
    "    print('accept！')\n",
    "    \n",
    "test()"
   ]
  },
  {
   "cell_type": "markdown",
   "metadata": {},
   "source": [
    "## 快速排序"
   ]
  },
  {
   "cell_type": "markdown",
   "metadata": {},
   "source": [
    "思想（分治）：<br>\n",
    "1-从数列中选择一个数作为key<br>\n",
    "2-将小于key的数放在左边，大于key的数放在右边(则完成key的定位)<br>\n",
    "3-对左右两个子序列，重复step1,2，直到序列长度为1\n",
    "\n",
    "时间复杂度：O(n*logn) (数组要分割logn次，平均每次比较O(n)个)<br>\n",
    "空间复杂度：O(logn)(每个数组要分配一个key,总共logn个数组)<br>\n",
    "稳定性：不稳定\n",
    "\n",
    "不稳定举例：[5,2,3,5,8,8,7],以左边数5为基准，在完成第一轮5的定位时，需要跟边界位置进行互换，导致两个5的相对位置互换\n",
    "\n",
    "难点：如何将小于key的值移到key的左边？<br>\n",
    "1-指针交换法<br>\n",
    "&nbsp;1.1 移动左边指针，直到遇到大于key的值<br>\n",
    "&nbsp;1.2 移动右边指针，直到遇到小于key的值<br>\n",
    "&nbsp;1.3 交换左右指针元素<br>\n",
    " 由于选择左边为key，因此左边的元素一直是key，由于左边的元素都是小于等于key，因此最终还需要跟首元素进行交换"
   ]
  },
  {
   "cell_type": "code",
   "execution_count": 2,
   "metadata": {},
   "outputs": [
    {
     "name": "stdout",
     "output_type": "stream",
     "text": [
      "accept！\n"
     ]
    }
   ],
   "source": [
    "def quick_sort(arr,left,right):\n",
    "    #只剩下一位数\n",
    "    if left >= right:\n",
    "        return \n",
    "    \n",
    "    s_index=left\n",
    "    e_index=right\n",
    "    pivot=arr[left] #选择左边数为基准\n",
    "    \n",
    "    while left!=right:\n",
    "        #移动右指针，直到遇到小于key的值\n",
    "        while left<right and arr[right]>pivot:\n",
    "            right-=1\n",
    "        \n",
    "        #移动左指针，直到遇到大于key的值\n",
    "        while left<right and arr[left]<=pivot:\n",
    "            left+=1\n",
    "        \n",
    "        #右指针会先到达边界，与左指针重合（5,1,2,3,4,6 ，key=5,右指针会先到达4的位置）\n",
    "        if left<right:\n",
    "            arr[left],arr[right]=arr[right],arr[left]\n",
    "            \n",
    "    #交换边界元素和首元素（key值）\n",
    "    arr[s_index],arr[left]=arr[left],arr[s_index]\n",
    "    \n",
    "    #递归进行排序\n",
    "    quick_sort(arr,s_index,left-1)\n",
    "    quick_sort(arr,left+1,e_index)\n",
    "            \n",
    "def test():\n",
    "    test_arr=[4, 11, 11, 7, 0, 0, 6, 2, 2, 5, 3, 10, 2, 8, 9, 1]\n",
    "    test_arr_cpoy=test_arr.copy() \n",
    "    #内置算法进行排序\n",
    "    test_arr.sort()\n",
    "    #快速排序\n",
    "    quick_sort(test_arr_cpoy,0,len(test_arr)-1)\n",
    "    assert test_arr==test_arr_cpoy\n",
    "    \n",
    "    test_arr=[4, 1, 4, 3, 8, 2, 8, 5, 8, 9]\n",
    "    test_arr_cpoy=test_arr.copy()\n",
    "    test_arr.sort()\n",
    "    quick_sort(test_arr_cpoy,0,len(test_arr)-1)\n",
    "    assert test_arr==test_arr_cpoy\n",
    "    \n",
    "    test_arr=[4, 11, 11, 7, 12, 8, 86, 5, 3, 10, 2, 8, 9, 1]\n",
    "    test_arr_cpoy=test_arr.copy() \n",
    "    test_arr.sort()\n",
    "    quick_sort(test_arr_cpoy,0,len(test_arr)-1)\n",
    "    assert test_arr==test_arr_cpoy\n",
    "    \n",
    "    print('accept！')\n",
    "    \n",
    "test()"
   ]
  },
  {
   "cell_type": "markdown",
   "metadata": {},
   "source": [
    "# 插入排序"
   ]
  },
  {
   "cell_type": "markdown",
   "metadata": {},
   "source": [
    "## 简单插入排序"
   ]
  },
  {
   "cell_type": "markdown",
   "metadata": {},
   "source": [
    "思想：<br>\n",
    "1-从第2个元素开始，前a[1]-a[n-1]是已经排序好的数组，对于第a[n]个元素，查看a[n]在a[1]-a[n-1]的位置，并插入到对应位置<br>\n",
    "2-从第3个元素开始，重复step1，直到遍历完数列\n",
    "\n",
    "例子：[1,2,5,8,7,6]<br>\n",
    "1-对于[1,2,5,8]是已经排序好的，对于7，需要跟[1,2,5,8]的元素进行比较，找到合适位置<br>\n",
    "2-for循环剩余元素\n",
    "\n",
    "难点：将元素插入指定位置需要后移其他元素，如何实现？<br>\n",
    "1.双指针<br>\n",
    "&nbsp;1.1 将待插入元素视为cur指针，前一个位置为pre指针<br>\n",
    "&nbsp;1.2 当cur位置元素低于pre位置，则进行元素交换，同时更新指针\n",
    "\n",
    "时间复杂度：O(n<sup>2</sup>)(每个元素平均要比较的次数为O(n),要比较n次)<br>\n",
    "空间复杂度：O(1)<br>\n",
    "稳定性：稳定"
   ]
  },
  {
   "cell_type": "code",
   "execution_count": 9,
   "metadata": {},
   "outputs": [
    {
     "name": "stdout",
     "output_type": "stream",
     "text": [
      "accept!\n"
     ]
    }
   ],
   "source": [
    "def insertion_sort(arr):\n",
    "    #长度校验\n",
    "    if len(arr)<=1:\n",
    "        return arr\n",
    "    \n",
    "    for i in range(1,len(arr)):\n",
    "        cur_index=i\n",
    "        \n",
    "        #完成第i个元素的插入\n",
    "        while cur_index>0 and arr[cur_index]<arr[cur_index-1]:\n",
    "            #进行元素交换\n",
    "            arr[cur_index],arr[cur_index-1]=arr[cur_index-1],arr[cur_index]\n",
    "            #更新cur_index\n",
    "            cur_index-=1\n",
    "            \n",
    "    return arr\n",
    "\n",
    "def test():\n",
    "    test_arr=[4, 11, 11, 7, 0, 0, 6, 2, 2, 5, 3, 10, 2, 8, 9, 1]\n",
    "    test_arr_cpoy=test_arr.copy()\n",
    "    test_arr.sort()\n",
    "    assert test_arr==insertion_sort(test_arr_cpoy)\n",
    "    \n",
    "    test_arr=[4, 1, 4, 3, 8, 2, 8, 5, 8, 9]\n",
    "    test_arr_cpoy=test_arr.copy()\n",
    "    test_arr.sort()\n",
    "    assert test_arr==insertion_sort(test_arr_cpoy)\n",
    "    \n",
    "    test_arr=[4, 11, 11, 7, 12, 8, 86, 5, 3, 10, 2, 8, 9, 1]\n",
    "    test_arr_cpoy=test_arr.copy()\n",
    "    test_arr.sort()\n",
    "    assert test_arr==insertion_sort(test_arr_cpoy)\n",
    "    \n",
    "    print('accept!')\n",
    "    \n",
    "test()"
   ]
  },
  {
   "cell_type": "markdown",
   "metadata": {},
   "source": [
    "## 希尔排序"
   ]
  },
  {
   "cell_type": "markdown",
   "metadata": {},
   "source": [
    "希尔排序是对简单插入排序的改进，使得改进后的算法时间复杂度可以低于O(n<sup>2</sup>)；希尔排序通过设置gap来依次选定元素，并对选定元素进行插入排序；随后再不断缩小gap来扩大选择的元素，当gap为1时，则完成排序<br>\n",
    "\n",
    "思想：<br>\n",
    "1-选定gap,并按照gap进行数组进行分组<br>\n",
    "2-对每个分组gap进行插入排序<br>\n",
    "3-重新更新gap，并对数组执行step1,2，直到gap=1\n",
    "\n",
    "例子：arr=[1,8,7,2,5,6]<br>\n",
    "1-选定gap，gap=len(arr)/2=3<br>\n",
    "2-根据gap将arr分为(1,2)、(8,5)、(7,6),并进行插入排序，得到arr=[1,5,6,2,8,7]<br>\n",
    "3-之后，gap=gap/2=1,以间隔为1,直接对arr进行插入排序\n",
    "\n",
    "时间复杂度：O(n<sup>1.3~2</sup>) <br>\n",
    "空间复杂度：O(1)<br>\n",
    "稳定性：不稳定\n",
    "\n",
    "不稳定举例：[2,2,1,1]"
   ]
  },
  {
   "cell_type": "code",
   "execution_count": 8,
   "metadata": {},
   "outputs": [
    {
     "name": "stdout",
     "output_type": "stream",
     "text": [
      "accept!\n"
     ]
    }
   ],
   "source": [
    "def shell_sort(arr):\n",
    "    #长度校验\n",
    "    if len(arr)<=1:\n",
    "        return arr\n",
    "    \n",
    "    #增量间隔\n",
    "    gap=len(arr)//2\n",
    "    \n",
    "    while gap>0:\n",
    "        #从第gap个元素开始，对其所在组进行简单插入排序\n",
    "        for i in range(gap,len(arr)):\n",
    "            j=i\n",
    "            while j>0 and arr[j]<arr[j-gap]:\n",
    "                arr[j],arr[j-gap]=arr[j-gap],arr[j]\n",
    "                j-=gap\n",
    "            \n",
    "        #更新gap\n",
    "        gap=gap//2\n",
    "        \n",
    "    return arr\n",
    "\n",
    "def test():\n",
    "    test_arr=[4, 11, 11, 7, 0, 0, 6, 2, 2, 5, 3, 10, 2, 8, 9, 1]\n",
    "    test_arr_copy=test_arr.copy()\n",
    "    test_arr.sort()\n",
    "    assert test_arr==shell_sort(test_arr_copy)\n",
    "    \n",
    "    test_arr=[4, 1, 4, 3, 8, 2, 8, 5, 8, 9]\n",
    "    test_arr_copy=test_arr.copy()\n",
    "    test_arr.sort()\n",
    "    assert test_arr==shell_sort(test_arr_copy)\n",
    "    \n",
    "    test_arr=[4, 11, 11, 7, 12, 8, 86, 5, 3, 10, 2, 8, 9, 1]\n",
    "    test_arr_copy=test_arr.copy()\n",
    "    test_arr.sort()\n",
    "    assert test_arr==shell_sort(test_arr_copy)\n",
    "        \n",
    "    print('accept!')\n",
    "    \n",
    "test()"
   ]
  },
  {
   "cell_type": "markdown",
   "metadata": {},
   "source": [
    "#  选择排序"
   ]
  },
  {
   "cell_type": "markdown",
   "metadata": {},
   "source": [
    "## 简单选择排序"
   ]
  },
  {
   "cell_type": "markdown",
   "metadata": {},
   "source": [
    "思想：<br>\n",
    "1-每次遍历数组的剩余元素并找到最小的元素,将其放到对应位置<br>\n",
    "2-重复step1直到完成排序\n",
    "\n",
    "时间复杂度：O(n<sup>2</sup>)(每次比较的次数为O(n)，要比较n次)<br>\n",
    "空间复杂度：O(1)<br>\n",
    "稳定性：不稳定\n",
    "\n",
    "不稳定举例：[5,8,5,3,9],第一次遍历时,5和3会进行交换"
   ]
  },
  {
   "cell_type": "code",
   "execution_count": 12,
   "metadata": {},
   "outputs": [
    {
     "name": "stdout",
     "output_type": "stream",
     "text": [
      "accept!\n"
     ]
    }
   ],
   "source": [
    "def selection_sort(arr):\n",
    "    #长度校验\n",
    "    if len(arr)<=1:\n",
    "        return arr\n",
    "    \n",
    "    for i in range(len(arr)):\n",
    "        min_index=i\n",
    "        #查询最小元素下标\n",
    "        for j in range(i+1,len(arr)):\n",
    "            if arr[min_index]>arr[j]:\n",
    "                min_index=j\n",
    "        #交换min_index和i的位置\n",
    "        arr[i],arr[min_index]=arr[min_index],arr[i]\n",
    "    \n",
    "    return arr\n",
    "\n",
    "def test():\n",
    "    test_arr=[4, 11, 11, 7, 0, 0, 6, 2, 2, 5, 3, 10, 2, 8, 9, 1]\n",
    "    test_arr_copy=test_arr.copy()\n",
    "    test_arr.sort()\n",
    "    assert test_arr==selection_sort(test_arr_copy)\n",
    "    \n",
    "    test_arr=[4, 1, 4, 3, 8, 2, 8, 5, 8, 9,89]\n",
    "    test_arr_copy=test_arr.copy()\n",
    "    test_arr.sort()\n",
    "    assert test_arr==selection_sort(test_arr_copy)\n",
    "    \n",
    "    test_arr=[4, 11, 11, 7, 12, 8, 86, 5, 3, 10, 2, 8, 9, 1]\n",
    "    test_arr_copy=test_arr.copy()\n",
    "    test_arr.sort()\n",
    "    assert test_arr==selection_sort(test_arr_copy)\n",
    "        \n",
    "    print('accept!')\n",
    "    \n",
    "test()"
   ]
  },
  {
   "cell_type": "markdown",
   "metadata": {},
   "source": [
    "## 堆排序"
   ]
  },
  {
   "cell_type": "markdown",
   "metadata": {},
   "source": [
    "堆排序是利用堆这种数据结构(完全二叉树)而设计的一种排序算法，堆有两种类型<br>\n",
    "最大堆：父节点大于等于所有子节点<br>\n",
    "最小堆：父节点小于等于所有子节点<br>\n",
    "\n",
    "从数组的角度来看待堆则满足以下公式<br>\n",
    "最大堆：arr[i]>arr[2i+1] & arr[i]>arr[2i+2]（利用二叉树中叶子和非叶子节点的关系可以很容易推出）<br>\n",
    "最小堆：arr[i]<arr[2i+1] & arr[i]<arr[2i+2]\n",
    "\n",
    "思想：<br>\n",
    "1-将待排序数组构成一个大顶堆，此时根节点为最大值<br>\n",
    "2-将首元素与最后一个元素进行交换，完成最大值的定位<br>\n",
    "3-将前n-1个元素重复step1,2直到完成排序\n",
    "\n",
    "完全二叉树性质：<br>\n",
    "1-假定非叶子节点数为i，则叶子节点为i+1\n",
    "\n",
    "示例：\n",
    "\n",
    "                     4\n",
    "                   /   \\\n",
    "                 7      0\n",
    "               /  \\    / \\\n",
    "             9    1   5   3\n",
    "           / \\   /\n",
    "         3   2  6\n",
    "list_ = [4, 7, 0, 9, 1, 5, 3, 3, 2, 6]\n",
    "\n",
    "难点：如何将一个无序数组调整为大顶堆？<br>\n",
    "1-非叶子节点数为：len(arr)/2-1 <br>\n",
    "2-从最后一个非叶子节点进行调整<br>\n",
    "3-遍历所有非叶子节点，则完成最大堆的创建\n",
    "\n",
    "时间复杂度：O(nlogn)<br>\n",
    "空间复杂度：O(1)<br>\n",
    "稳定性：不稳定\n",
    "\n",
    "Ref:https://www.cnblogs.com/chengxiao/p/6129630.html"
   ]
  },
  {
   "cell_type": "code",
   "execution_count": 51,
   "metadata": {},
   "outputs": [
    {
     "name": "stdout",
     "output_type": "stream",
     "text": [
      "accept!\n"
     ]
    }
   ],
   "source": [
    "def build_max_heap(arr):\n",
    "    for i in range(len(arr)//2,-1,-1):\n",
    "        heapify(arr,i)\n",
    "\n",
    "def heapify(arr,i):\n",
    "    '''\n",
    "    调整当前节点下的半边子树为最大堆(首次创建完一个最大堆后，两边子树都是有序的，首尾元素的互换，只会改变半棵树的顺序)\n",
    "    这个函数的设计十分巧妙！！！\n",
    "    \n",
    "    @param arr:是待排序数组\n",
    "    @param i:第i个节点\n",
    "    '''\n",
    "    left=2*i+1\n",
    "    right=2*i+2\n",
    "    \n",
    "    largest=i\n",
    "    if left<arr_len and arr[left]>arr[largest]:\n",
    "        largest=left\n",
    "    if right<arr_len and arr[right]>arr[largest]:\n",
    "        largest=right\n",
    "        \n",
    "    if largest != i:\n",
    "        #交换元素\n",
    "        arr[largest],arr[i]=arr[i],arr[largest]\n",
    "        #交换元素还需要跟子节点继续比较\n",
    "        heapify(arr,largest)\n",
    "\n",
    "def heap_sort(arr):\n",
    "    if len(arr)<=1:\n",
    "        return arr\n",
    "    \n",
    "    global arr_len\n",
    "    arr_len=len(arr)\n",
    "    \n",
    "    #创建最大堆\n",
    "    build_max_heap(arr)\n",
    "    \n",
    "    for i in range(len(arr),0,-1):\n",
    "        #交换首尾元素\n",
    "        arr[0],arr[i-1]=arr[i-1],arr[0]\n",
    "        \n",
    "        arr_len-=1\n",
    "        \n",
    "        #调整子树\n",
    "        heapify(arr,0)\n",
    "\n",
    "    return arr        \n",
    "\n",
    "def test():\n",
    "    test_arr=[4, 11, 11, 7, 0, 0, 6, 2, 2, 5, 3, 10, 2, 8, 9, 1]\n",
    "    test_arr_copy=test_arr.copy()\n",
    "    test_arr.sort()\n",
    "    assert test_arr==heap_sort(test_arr_copy)\n",
    "    \n",
    "    test_arr=[4, 1, 4, 3, 8, 2, 8, 5, 8, 9]\n",
    "    test_arr_copy=test_arr.copy()\n",
    "    test_arr.sort()\n",
    "    assert test_arr==heap_sort(test_arr_copy)\n",
    "    \n",
    "    test_arr=[4, 11, 11, 7, 12, 8, 86, 5, 3, 10, 2, 8, 9, 1]\n",
    "    test_arr_copy=test_arr.copy()\n",
    "    test_arr.sort()\n",
    "    assert test_arr==heap_sort(test_arr_copy)\n",
    "        \n",
    "    print('accept!')\n",
    "    \n",
    "test()"
   ]
  },
  {
   "cell_type": "markdown",
   "metadata": {},
   "source": [
    "# 归并排序"
   ]
  },
  {
   "cell_type": "markdown",
   "metadata": {},
   "source": [
    "思想(分治)：<br>\n",
    "1-将待排序的数组先划分为若干单个数<br>\n",
    "2-选择两个数合并为有序数组<br>\n",
    "3-重复step2直到完成排序\n",
    "\n",
    "时间复杂度：O(n*logn)(分解的层数为O(logn),两两合并的时间复杂度为O(n))<br>\n",
    "空间复杂度：O(n)<br>\n",
    "稳定性：稳定\n",
    "\n",
    "空间复杂度分析：<br>\n",
    "1-函数在递归调用前会开辟O(n)空间（left_part和right_part）<br>\n",
    "2-**分别**递归两次<br>\n",
    "T(n)=O(n)+T(n/2)<br> \n",
    "3-递归计算得空间<br>\n",
    "T(n)=O(n)+O(n/2)+O(n/4)+...+O(n/2m)，等比数列求和得T(n)=2n=O(n)<br>"
   ]
  },
  {
   "cell_type": "code",
   "execution_count": 14,
   "metadata": {},
   "outputs": [
    {
     "name": "stdout",
     "output_type": "stream",
     "text": [
      "accept!\n"
     ]
    }
   ],
   "source": [
    "def merge_sort(arr):\n",
    "    #长度校验，但为单个数时，之间返回\n",
    "    if len(arr)<=1:\n",
    "        return arr\n",
    "    \n",
    "    #将数组划分为左右部分\n",
    "    middle=len(arr)//2\n",
    "    left_arr=arr[:middle]\n",
    "    right_arr=arr[middle:]\n",
    "    \n",
    "    #传入的参数会递归调用，直到划分为单个数，merge_arr会将其合并\n",
    "    return merge_arr(merge_sort(left_arr),merge_sort(right_arr))\n",
    "\n",
    "def merge_arr(left,right):\n",
    "    '''\n",
    "    有序合并left和right两个数组;(left和right是已经是有序数组)\n",
    "    '''\n",
    "    res=[]\n",
    "    \n",
    "    while left and right:\n",
    "        if left[0]<right[0]:\n",
    "            res.append(left.pop(0))\n",
    "        else:\n",
    "            res.append(right.pop(0))\n",
    "    \n",
    "    while left:\n",
    "        res.append(left.pop(0))\n",
    "    \n",
    "    while right:\n",
    "        res.append(right.pop(0))\n",
    "    \n",
    "    return res\n",
    "\n",
    "def test():\n",
    "    test_arr=[4, 11, 11, 7, 0, 0, 6, 2, 2, 5, 3, 10, 2, 8, 9, 1]\n",
    "    test_arr_copy=test_arr.copy()\n",
    "    test_arr.sort()\n",
    "    assert test_arr==merge_sort(test_arr_copy)\n",
    "    \n",
    "    test_arr=[4, 1, 4, 3, 8, 2, 8, 5, 8, 9,89]\n",
    "    test_arr_copy=test_arr.copy()\n",
    "    test_arr.sort()\n",
    "    assert test_arr==merge_sort(test_arr_copy)\n",
    "    \n",
    "    test_arr=[4, 11, 11, 7, 12, 8, 86, 5, 3, 10, 2, 8, 9, 1]\n",
    "    test_arr_copy=test_arr.copy()\n",
    "    test_arr.sort()\n",
    "    assert test_arr==merge_sort(test_arr_copy)\n",
    "    \n",
    "    print('accept!')\n",
    "\n",
    "test()"
   ]
  },
  {
   "cell_type": "markdown",
   "metadata": {},
   "source": [
    "# 计数排序"
   ]
  },
  {
   "cell_type": "markdown",
   "metadata": {},
   "source": [
    "思想：该算法利用一个数组A的下标已经是有序了，只要将待排序数组元素B出现次数体现在A对应下标元素，再遍历A即可完成排序<br>\n",
    "1-获取待排数组arr的最大值和最小值 min_value和max_value<br>\n",
    "2-构建一个长度为max_value-min_value的数组count_arr<br>\n",
    "3-遍历arr,将arr中各元素出现的次数，体现在count_arr的下标元素上<br>\n",
    "4-遍历count_arr，完成排序\n",
    "\n",
    "例子：arr=[1,2,1,3,5,0]<br>\n",
    "1-min_value=0,max_value=5<br>\n",
    "2-构建count_value=[0,0,0,0,0,0,0]<br>\n",
    "3-遍历arr.如arr中0有1个，1有2个，2有1个，3有1个，5有1个;count=[1,2,1,1,0,1]<br>\n",
    "4-遍历count,得到排序后的数组\n",
    "\n",
    "时间复杂度：O(n+k)(k=max-min; O(n)为获取最大和最小的元素；O(k)为遍历count_arr)<br>\n",
    "空间复杂度：O(k)(count_arr的空间大小)<br>\n",
    "稳定性：稳定排序"
   ]
  },
  {
   "cell_type": "code",
   "execution_count": 17,
   "metadata": {},
   "outputs": [
    {
     "name": "stdout",
     "output_type": "stream",
     "text": [
      "accept!\n"
     ]
    }
   ],
   "source": [
    "def count_sort(arr):\n",
    "    #长度校验\n",
    "    if len(arr)<=1:\n",
    "        return arr\n",
    "    #获取最大和最小值\n",
    "    min_value=min(arr)\n",
    "    max_value=max(arr)\n",
    "    \n",
    "    #创建计数数组\n",
    "    count_arr=[0]*(max_value-min_value+1)\n",
    "    \n",
    "    #遍历arr,将出现的元素赋值到count_arr的下标\n",
    "    for i in range(len(arr)):\n",
    "        count_arr[arr[i]-min_value]+=1\n",
    "    \n",
    "    #清空arr\n",
    "    arr.clear()\n",
    "    \n",
    "    #遍历count_arr,得到排序好数组\n",
    "    for i in range(len(count_arr)):\n",
    "        if count_arr[i]!=0:\n",
    "            #需要加上min_value\n",
    "            arr.extend([i+min_value]*count_arr[i])\n",
    "            \n",
    "    return arr\n",
    "\n",
    "def test():\n",
    "    test_arr=[4, 11, 11, 7, 0, 0, 6, 2, 2, 5, 3, 10, 2, 8, 9, 1]\n",
    "    test_arr_copy=test_arr.copy()\n",
    "    test_arr.sort()\n",
    "    assert test_arr==count_sort(test_arr_copy)\n",
    "    \n",
    "    test_arr=[4, 1, 4, 3, 8, 2, 8, 5, 8, 9,89]\n",
    "    test_arr_copy=test_arr.copy()\n",
    "    test_arr.sort()\n",
    "    assert test_arr==count_sort(test_arr_copy)\n",
    "    \n",
    "    test_arr=[4, 11, 11, 7, 12, 8, 86, 5, 3, 10, 2, 8, 9, 1]\n",
    "    test_arr_copy=test_arr.copy()\n",
    "    test_arr.sort()\n",
    "    assert test_arr==count_sort(test_arr_copy)\n",
    "    \n",
    "    print('accept!')\n",
    "\n",
    "test()"
   ]
  }
 ],
 "metadata": {
  "kernelspec": {
   "display_name": "Python 3",
   "language": "python",
   "name": "python3"
  },
  "language_info": {
   "codemirror_mode": {
    "name": "ipython",
    "version": 3
   },
   "file_extension": ".py",
   "mimetype": "text/x-python",
   "name": "python",
   "nbconvert_exporter": "python",
   "pygments_lexer": "ipython3",
   "version": "3.6.5"
  },
  "latex_envs": {
   "LaTeX_envs_menu_present": true,
   "autoclose": false,
   "autocomplete": true,
   "bibliofile": "biblio.bib",
   "cite_by": "apalike",
   "current_citInitial": 1,
   "eqLabelWithNumbers": true,
   "eqNumInitial": 1,
   "hotkeys": {
    "equation": "Ctrl-E",
    "itemize": "Ctrl-I"
   },
   "labels_anchors": false,
   "latex_user_defs": false,
   "report_style_numbering": false,
   "user_envs_cfg": false
  }
 },
 "nbformat": 4,
 "nbformat_minor": 2
}
