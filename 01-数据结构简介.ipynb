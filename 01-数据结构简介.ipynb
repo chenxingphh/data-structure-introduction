{
 "cells": [
  {
   "cell_type": "code",
   "execution_count": null,
   "metadata": {},
   "outputs": [],
   "source": [
    "# -*- coding=utf-8 -*-\n",
    "'''\n",
    "@Author: Haihui Pan\n",
    "@Date: 2021/3/19\n",
    "'''"
   ]
  },
  {
   "cell_type": "markdown",
   "metadata": {},
   "source": [
    "# 链表（Linked List）"
   ]
  },
  {
   "cell_type": "markdown",
   "metadata": {},
   "source": [
    "链表是一种非连续的存储结构，链表元素的顺序通过链表中的指针链接实现\n",
    "\n",
    "链表优点<br>\n",
    "1-可以使用不连续的小空间,内存利用率高<br>\n",
    "2-插入和删除元素的效率高\n",
    "\n",
    "链表缺点<br>\n",
    "1-无法直接获取目标元素，需要遍历链表<br>\n",
    "2-链表增加了指针域，空间开销增大"
   ]
  },
  {
   "cell_type": "markdown",
   "metadata": {},
   "source": [
    "## 单向链表"
   ]
  },
  {
   "cell_type": "code",
   "execution_count": 2,
   "metadata": {},
   "outputs": [
    {
     "data": {
      "text/html": [
       "<img src='单向链表.png', width=600, height=300>"
      ],
      "text/plain": [
       "<IPython.core.display.HTML object>"
      ]
     },
     "metadata": {},
     "output_type": "display_data"
    }
   ],
   "source": [
    "%%html\n",
    "<img src='单向链表.png', width=600, height=300>"
   ]
  },
  {
   "cell_type": "markdown",
   "metadata": {},
   "source": [
    "单链表为什么要设置head?<br>\n",
    "1-head并不是链表所必须适用的，不设置head会导致首元素的处理与其他元素产生差异（例如在首位添加新元素）<br>\n",
    "2-head的设置是为了降低程序处理的复杂度"
   ]
  },
  {
   "cell_type": "markdown",
   "metadata": {},
   "source": [
    "## 双向链表"
   ]
  },
  {
   "cell_type": "code",
   "execution_count": 5,
   "metadata": {},
   "outputs": [
    {
     "data": {
      "text/html": [
       "<img src='双向链表.png', width=700, height=400>"
      ],
      "text/plain": [
       "<IPython.core.display.HTML object>"
      ]
     },
     "metadata": {},
     "output_type": "display_data"
    }
   ],
   "source": [
    "%%html\n",
    "<img src='双向链表.png', width=700, height=400>"
   ]
  },
  {
   "cell_type": "markdown",
   "metadata": {},
   "source": [
    "## 循环链表"
   ]
  },
  {
   "cell_type": "code",
   "execution_count": 6,
   "metadata": {},
   "outputs": [
    {
     "data": {
      "text/html": [
       "<img src='循环链表.png', width=700, height=400>"
      ],
      "text/plain": [
       "<IPython.core.display.HTML object>"
      ]
     },
     "metadata": {},
     "output_type": "display_data"
    }
   ],
   "source": [
    "%%html\n",
    "<img src='循环链表.png', width=700, height=400>"
   ]
  },
  {
   "cell_type": "markdown",
   "metadata": {},
   "source": [
    "# 数组"
   ]
  },
  {
   "cell_type": "markdown",
   "metadata": {},
   "source": [
    "数组是一种连续的存储结构，在内存中开辟一段连续的空间用于存储元素\n",
    "\n",
    "优点：<br>\n",
    "1-可以直接根据元素下标来获取对应元素<br>\n",
    "2-更新元素的效率高\n",
    "\n",
    "缺点：<br>\n",
    "1-需要使用连续的内存，内存空间利用率低<br>\n",
    "2-当新增和删除元素时耗时\n"
   ]
  },
  {
   "cell_type": "markdown",
   "metadata": {},
   "source": [
    "# 队列（Queue）"
   ]
  },
  {
   "cell_type": "markdown",
   "metadata": {},
   "source": [
    "Queue 是一种 FIFO（先进先出）的数据结构。"
   ]
  },
  {
   "cell_type": "code",
   "execution_count": 8,
   "metadata": {},
   "outputs": [
    {
     "data": {
      "text/html": [
       "<img src='队列.png', width=500, height=400>"
      ],
      "text/plain": [
       "<IPython.core.display.HTML object>"
      ]
     },
     "metadata": {},
     "output_type": "display_data"
    }
   ],
   "source": [
    "%%html\n",
    "<img src='队列.png', width=500, height=400>"
   ]
  },
  {
   "cell_type": "markdown",
   "metadata": {},
   "source": [
    "## 优先队列"
   ]
  },
  {
   "cell_type": "markdown",
   "metadata": {},
   "source": [
    "产生动机：应用程序常常需要处理带有优先级的业务，优先级最高的业务首先得到服务，因此优先队列这种数据结构应运而生<br>\n",
    "\n",
    "优先队列：<br>\n",
    "1-优先队列中的**每个元素都有各自的优先级**，优先级最高的元素最先得到服务；<br>\n",
    "2-优先级相同的元素按照其在优先队列中的顺序得到服务。"
   ]
  },
  {
   "cell_type": "markdown",
   "metadata": {},
   "source": [
    "# 栈（Stack）"
   ]
  },
  {
   "cell_type": "markdown",
   "metadata": {},
   "source": [
    "栈是一种先进后出的数据结构。\n",
    "\n",
    "栈的两种基本操作<br>\n",
    "1-进栈<br>\n",
    "2-出栈"
   ]
  },
  {
   "cell_type": "code",
   "execution_count": 11,
   "metadata": {},
   "outputs": [
    {
     "data": {
      "text/html": [
       "<img src='栈.png', width=300, height=300>"
      ],
      "text/plain": [
       "<IPython.core.display.HTML object>"
      ]
     },
     "metadata": {},
     "output_type": "display_data"
    }
   ],
   "source": [
    "%%html\n",
    "<img src='栈.png', width=300, height=300>"
   ]
  },
  {
   "cell_type": "markdown",
   "metadata": {},
   "source": [
    "# 树（Tree）"
   ]
  },
  {
   "cell_type": "markdown",
   "metadata": {},
   "source": [
    "树是一种以层次化方式来组织数据的结构。树由边(edge)和节点(node)构成,每个节点存储对应值<br>\n",
    "\n",
    "特点：<br>\n",
    "1-没有父节点的点称为根节点(root node)<br>\n",
    "2-没有子节点的点称为叶子节点<br>\n",
    "3-每个节点可以没有子节点或有限个节点<br>\n",
    "4-树里面没有闭环"
   ]
  },
  {
   "cell_type": "code",
   "execution_count": 15,
   "metadata": {},
   "outputs": [
    {
     "data": {
      "text/html": [
       "<img src='树.png', width=150, height=150>"
      ],
      "text/plain": [
       "<IPython.core.display.HTML object>"
      ]
     },
     "metadata": {},
     "output_type": "display_data"
    }
   ],
   "source": [
    "%%html\n",
    "<img src='树.png', width=150, height=150>"
   ]
  },
  {
   "cell_type": "markdown",
   "metadata": {},
   "source": [
    "##  二叉树（binary tree）"
   ]
  },
  {
   "cell_type": "markdown",
   "metadata": {},
   "source": [
    "二叉树：每个节点最多只能有2个子节点的树<br>\n",
    "\n",
    "二叉树性质<br>\n",
    "1-二叉树第i层至多有2<sup>i-1</sup>个节点(等比数列第i个元素)<br>\n",
    "2-深度为h的二叉树至多有2<sup>h</sup>-1个节点(等比数列求和)<br>\n",
    "3-二叉树的总度数(边数)=总节点数-1（除根节点外，每个节点与其父节点之间都有一条边）<br>\n",
    "&nbsp;3-1 度数是指一个节点有几个子节点<br>\n",
    "4-二叉树的叶子节点（度为0）数为n<sub>0</sub>，度为2的节点为n<sub>2</sub>.则n<sub>0</sub>=n<sub>2</sub>+1<br>\n",
    "&nbsp;4-1 总节点数为：n<sub>0</sub>+n<sub>1</sub>+n<sub>2</sub>； 总度数为n1+2n2  ,根据性质(3)有   n<sub>0</sub>+n<sub>1</sub>+n<sub>2</sub>=n<sub>1</sub>+2n<sub>2</sub>+1，得到n<sub>0</sub>=n<sub>2</sub>+1<br>"
   ]
  },
  {
   "cell_type": "markdown",
   "metadata": {},
   "source": [
    "## 完全二叉树"
   ]
  },
  {
   "cell_type": "markdown",
   "metadata": {},
   "source": [
    "完全二叉树定义：<br>\n",
    "1-深度为h的二叉树，其前h-1层的每个节点都有2个子节点<br>\n",
    "2-**最后一层的节点要从左到右开始**"
   ]
  },
  {
   "cell_type": "code",
   "execution_count": 17,
   "metadata": {},
   "outputs": [
    {
     "data": {
      "text/html": [
       "<img src='完全二叉树.png', width=500, height=500>"
      ],
      "text/plain": [
       "<IPython.core.display.HTML object>"
      ]
     },
     "metadata": {},
     "output_type": "display_data"
    }
   ],
   "source": [
    "%%html\n",
    "<img src='完全二叉树.png', width=500, height=500>"
   ]
  },
  {
   "cell_type": "markdown",
   "metadata": {},
   "source": [
    "## 树的遍历"
   ]
  },
  {
   "cell_type": "markdown",
   "metadata": {},
   "source": [
    "### 深度优先遍历(DFS)"
   ]
  },
  {
   "cell_type": "markdown",
   "metadata": {},
   "source": [
    "深度优先遍历有三种方式<br>\n",
    "1-前序（pre-order）：父节点、左节点、右节点<br>\n",
    "2-中序（in-order）:左节点、父节点、右节点<br>\n",
    "3-后序（post-order）:左节点、右节点、父节点<br>\n",
    "    \n",
    "前、中、后的遍历其实对应了父节点访问的次序"
   ]
  },
  {
   "cell_type": "markdown",
   "metadata": {},
   "source": [
    "### 广度优先遍历(BFS)"
   ]
  },
  {
   "cell_type": "markdown",
   "metadata": {},
   "source": [
    "从上到下逐层进行从左到右遍历"
   ]
  },
  {
   "cell_type": "markdown",
   "metadata": {},
   "source": [
    "# 堆(Heap)"
   ]
  },
  {
   "cell_type": "markdown",
   "metadata": {},
   "source": [
    "堆是一种完全二叉树结构，有2中类型的堆：<br>\n",
    "1-最大堆：根节点>=子节点<br>\n",
    "2-最小堆：跟节点<=子节点\n",
    "\n",
    "使用数组去模拟堆是需要具备以下性质<br>\n",
    "1-最大堆：a[i] >= a[2i+1] & a[i] >= a[2i+2]\n",
    "2-最小堆：a[i] <= a[2i+1] & a[i] <= a[2i+2]\n",
    "\n",
    "堆的应用<br>\n",
    "1-堆排序<br>\n",
    "2-查询数组中第Top-K个数"
   ]
  },
  {
   "cell_type": "markdown",
   "metadata": {},
   "source": [
    "# 图（Graph）"
   ]
  },
  {
   "cell_type": "markdown",
   "metadata": {},
   "source": [
    "图是由节点和连接每对节点的边所构成的数据结构。\n",
    "\n",
    "1-无向图和有向图<br> \n",
    "&nbsp; 1.1 无向图：节点的边没有箭头则表示两个连接的节点之间可以互相访问<br>\n",
    "&nbsp; 1.2 有向图：节点的边具备方向的箭头表示节点之间的移动方向<br>\n",
    "\n",
    "2-加权图和非加权图<br>\n",
    "&nbsp; 2.1 加权图：图中的边具备权重，则称为加权图；没有权重只能表示两节点之间的是否连接，**有权重则可以表示节点之间的连接程度。**<br>\n",
    "&nbsp; 2.2 非加权图：图中边没有权重。<br>\n",
    "\n",
    "3-如果图中的**任意两个节点**都存在路径可以互相访问，则称为连通图。<br>"
   ]
  },
  {
   "cell_type": "code",
   "execution_count": 1,
   "metadata": {},
   "outputs": [
    {
     "data": {
      "text/html": [
       "<img src='无向图与有向图.png', width=600, height=300>"
      ],
      "text/plain": [
       "<IPython.core.display.HTML object>"
      ]
     },
     "metadata": {},
     "output_type": "display_data"
    }
   ],
   "source": [
    "%%html\n",
    "<img src='无向图与有向图.png', width=600, height=300>"
   ]
  },
  {
   "cell_type": "markdown",
   "metadata": {},
   "source": [
    "## 图的性质"
   ]
  },
  {
   "cell_type": "markdown",
   "metadata": {},
   "source": [
    "性质1：图的节点为v<sub>1</sub>,...,v<sub>n</sub>,节点对应的度(边)为TD(v<sub>1</sub>),...,TD(v<sub>n</sub>),则图的边数e与度的关系为e=(TD(v<sub>1</sub>)+...+TD(v<sub>n</sub>)/2（每2个节点共享一条边）<br>\n",
    "性质2：一颗有n个顶点的生成树有且仅有n-1条边<br>"
   ]
  },
  {
   "cell_type": "markdown",
   "metadata": {},
   "source": [
    "## 图的存储"
   ]
  },
  {
   "cell_type": "markdown",
   "metadata": {},
   "source": [
    "### 邻接矩阵"
   ]
  },
  {
   "cell_type": "markdown",
   "metadata": {},
   "source": [
    "邻接矩阵是采用二维数组来对图的节点和边的关系进行存储。\n",
    "\n",
    "1-无向图邻接矩阵表达；<br>\n",
    "&nbsp; 1.1 当a[i,j]=1时，表示节点i到节点j是可达的<br>\n",
    "&nbsp; 1.2 当a[i,j]=0时，表示节点i到节点j是不可达的<br>"
   ]
  },
  {
   "cell_type": "code",
   "execution_count": 4,
   "metadata": {},
   "outputs": [
    {
     "data": {
      "text/html": [
       "<img src='邻接矩阵-无向图.png', width=400, height=300>"
      ],
      "text/plain": [
       "<IPython.core.display.HTML object>"
      ]
     },
     "metadata": {},
     "output_type": "display_data"
    }
   ],
   "source": [
    "%%html\n",
    "<img src='邻接矩阵-无向图.png', width=400, height=300>"
   ]
  },
  {
   "cell_type": "markdown",
   "metadata": {},
   "source": [
    "2-有向图邻接矩阵表达；<br>\n",
    "&nbsp; 2.1 当a[i,j]=1时，表示节点i到节点j是可达<br>\n",
    "&nbsp; 2.2 当a[i,j]=0时，表示节点i到节点j是不可达<br>"
   ]
  },
  {
   "cell_type": "code",
   "execution_count": 5,
   "metadata": {},
   "outputs": [
    {
     "data": {
      "text/html": [
       "<img src='邻接矩阵-有向图.png', width=400, height=300>"
      ],
      "text/plain": [
       "<IPython.core.display.HTML object>"
      ]
     },
     "metadata": {},
     "output_type": "display_data"
    }
   ],
   "source": [
    "%%html\n",
    "<img src='邻接矩阵-有向图.png', width=400, height=300>"
   ]
  },
  {
   "cell_type": "markdown",
   "metadata": {},
   "source": [
    "3-有向加权图邻接矩阵表达；<br>\n",
    "&nbsp; 3.1 当a[i,j]=w时，表示节点i到节点j是可达,且权重为w<br>\n",
    "&nbsp; 3.2 当a[i,i]=0时，表示节点i本身<br>\n",
    "&nbsp; 3.2 当a[i,j]=&infin;时，表示节点i本身到节点j是不可达"
   ]
  },
  {
   "cell_type": "code",
   "execution_count": 6,
   "metadata": {},
   "outputs": [
    {
     "data": {
      "text/html": [
       "<img src='邻接矩阵-加权有向图.png', width=400, height=300>"
      ],
      "text/plain": [
       "<IPython.core.display.HTML object>"
      ]
     },
     "metadata": {},
     "output_type": "display_data"
    }
   ],
   "source": [
    "%%html\n",
    "<img src='邻接矩阵-加权有向图.png', width=400, height=300>"
   ]
  },
  {
   "cell_type": "markdown",
   "metadata": {},
   "source": [
    "### 邻接表"
   ]
  },
  {
   "cell_type": "markdown",
   "metadata": {},
   "source": [
    "邻接表是采用链表来存储图，其中每个链表相当于存储玲姐矩阵的每一行<br>\n",
    "\n",
    "1-无向图邻接表"
   ]
  },
  {
   "cell_type": "code",
   "execution_count": 2,
   "metadata": {},
   "outputs": [
    {
     "data": {
      "text/html": [
       "<img src='邻接表-无向图.png', width=500, height=300>"
      ],
      "text/plain": [
       "<IPython.core.display.HTML object>"
      ]
     },
     "metadata": {},
     "output_type": "display_data"
    }
   ],
   "source": [
    "%%html\n",
    "<img src='邻接表-无向图.png', width=500, height=300>"
   ]
  },
  {
   "cell_type": "code",
   "execution_count": null,
   "metadata": {},
   "outputs": [],
   "source": [
    "2-有向图邻接表"
   ]
  },
  {
   "cell_type": "code",
   "execution_count": 3,
   "metadata": {},
   "outputs": [
    {
     "data": {
      "text/html": [
       "<img src='邻接表-有向图.png', width=500, height=300>"
      ],
      "text/plain": [
       "<IPython.core.display.HTML object>"
      ]
     },
     "metadata": {},
     "output_type": "display_data"
    }
   ],
   "source": [
    "%%html\n",
    "<img src='邻接表-有向图.png', width=500, height=300>"
   ]
  },
  {
   "cell_type": "code",
   "execution_count": null,
   "metadata": {},
   "outputs": [],
   "source": [
    "3-有向加权图邻接表"
   ]
  },
  {
   "cell_type": "code",
   "execution_count": 4,
   "metadata": {},
   "outputs": [
    {
     "data": {
      "text/html": [
       "<img src='邻接表-有向加权图.png', width=500, height=300>"
      ],
      "text/plain": [
       "<IPython.core.display.HTML object>"
      ]
     },
     "metadata": {},
     "output_type": "display_data"
    }
   ],
   "source": [
    "%%html\n",
    "<img src='邻接表-有向加权图.png', width=500, height=300>"
   ]
  },
  {
   "cell_type": "markdown",
   "metadata": {},
   "source": [
    "## 图的遍历"
   ]
  },
  {
   "cell_type": "code",
   "execution_count": 6,
   "metadata": {},
   "outputs": [
    {
     "data": {
      "text/html": [
       "<img src='图遍历.png', width=500, height=300>"
      ],
      "text/plain": [
       "<IPython.core.display.HTML object>"
      ]
     },
     "metadata": {},
     "output_type": "display_data"
    }
   ],
   "source": [
    "%%html\n",
    "<img src='图遍历.png', width=500, height=300>"
   ]
  },
  {
   "cell_type": "markdown",
   "metadata": {},
   "source": [
    "### 深度优先搜索(DFS)"
   ]
  },
  {
   "cell_type": "markdown",
   "metadata": {},
   "source": [
    "深度优先搜索思想：<br>\n",
    "1-确定某个访问节点v<br>\n",
    "2-遍历v的邻接节点，对v的每一个邻接节点都进行深度优先遍历,直到访问的节点没有邻接点<br>\n",
    "3-然后，采用依次“退回”的方式，来查看是否有未被访问的节点\n",
    "\n",
    "指定v<sub>0</sub>为起始点，对上图采用深度优先搜索的结果为：v<sub>0</sub>$\\rightarrow$v<sub>4</sub>$\\rightarrow$v<sub>1</sub>$\\rightarrow$v<sub>2</sub>$\\rightarrow$v<sub>3</sub>$\\rightarrow$v<sub>5</sub>$\\rightarrow$v<sub>7</sub>$\\rightarrow$v<sub>6</sub>"
   ]
  },
  {
   "cell_type": "markdown",
   "metadata": {},
   "source": [
    "### 广度优先搜索(BFS)"
   ]
  },
  {
   "cell_type": "markdown",
   "metadata": {},
   "source": [
    "广度优先搜索思想：<br>\n",
    "1-从图中的某一节点出发<br>\n",
    "2-遍历该节点的所有邻接点<br>\n",
    "3-再从这些邻接点出发，重复step1,2知道遍历完所有节点\n",
    "\n",
    "指定v<sub>0</sub>为起始点，对上图采用广度优先搜索的结果为：v<sub>0</sub>$\\rightarrow$v<sub>4</sub>$\\rightarrow$v<sub>5</sub>$\\rightarrow$v<sub>1</sub>$\\rightarrow$v<sub>3</sub>$\\rightarrow$v<sub>7</sub>$\\rightarrow$v<sub>6</sub>$\\rightarrow$v<sub>2</sub>"
   ]
  },
  {
   "cell_type": "markdown",
   "metadata": {},
   "source": [
    "## 最短路径"
   ]
  },
  {
   "cell_type": "markdown",
   "metadata": {},
   "source": [
    "问题：给定一个加权图，如何找到给定两个点之间最小权重的路径？\n",
    "\n",
    "常用解决方法：<br>\n",
    "1-Dijkstra算法（无负权重）<br>"
   ]
  },
  {
   "cell_type": "markdown",
   "metadata": {},
   "source": [
    "### Dijkstra算法"
   ]
  },
  {
   "cell_type": "markdown",
   "metadata": {},
   "source": [
    "思想：每次从起始点的可达路径中选择最短的一条路径即可<br>\n",
    "\n",
    "时间复杂度:O(<sup>2</sup>)<br>\n",
    "\n",
    "局限：<br>\n",
    "1-无法应用于负权重的图<br>"
   ]
  },
  {
   "cell_type": "code",
   "execution_count": 6,
   "metadata": {},
   "outputs": [
    {
     "data": {
      "text/html": [
       "<img src='最短路径-Dijkstra算法.png', width=1100, height=700>"
      ],
      "text/plain": [
       "<IPython.core.display.HTML object>"
      ]
     },
     "metadata": {},
     "output_type": "display_data"
    }
   ],
   "source": [
    "%%html\n",
    "<img src='最短路径-Dijkstra算法.png', width=1100, height=700>"
   ]
  },
  {
   "cell_type": "code",
   "execution_count": 13,
   "metadata": {},
   "outputs": [
    {
     "name": "stdout",
     "output_type": "stream",
     "text": [
      "0到其他点的最短路径：\n",
      " {0: [0], 1: [0, 1], 2: [0, 2], 3: [0, 1, 3], 4: [0, 2, 4]}\n",
      "0到其他点的最短路径和：\n",
      " [0, 4, 5, 13, 6]\n"
     ]
    }
   ],
   "source": [
    "def dijkstra(graph,src):\n",
    "    '''\n",
    "    @graph：邻接矩阵\n",
    "    @src：起始点\n",
    "    \n",
    "    @return：src到其他点的最短路径和路径和\n",
    "    '''\n",
    "    #添加起始节点\n",
    "    visit=[src]\n",
    "    #未访问过的点\n",
    "    unvisit=[i for i in range(len(graph)) if i != src] \n",
    "    #src到各个点的最短路径和\n",
    "    distance=graph[src] \n",
    "    #存储最短路径\n",
    "    path={}\n",
    "    path[src]=[src]\n",
    "    \n",
    "    while unvisit:\n",
    "        min_distance=float('inf')\n",
    "        #要添加的新节点\n",
    "        node_unvisit=None \n",
    "        node_visit=None\n",
    "        \n",
    "        #记录最短的延长边\n",
    "        for i in visit:\n",
    "            for j in unvisit:\n",
    "                new_distance=distance[i]+graph[i][j]\n",
    "                \n",
    "                if new_distance<min_distance:\n",
    "                    min_distance=new_distance\n",
    "                    node_unvisit=j\n",
    "                    node_visit=i\n",
    "                    \n",
    "        #跟新\n",
    "        visit.append(node_unvisit)\n",
    "        unvisit.remove(node_unvisit)\n",
    "        \n",
    "        #跟新distance\n",
    "        distance[node_unvisit]=min_distance\n",
    "\n",
    "        node_unvisit_path=path.get(node_visit).copy()\n",
    "        node_unvisit_path.append(node_unvisit)\n",
    "        path[node_unvisit]=node_unvisit_path\n",
    "        \n",
    "    return path,distance\n",
    "\n",
    "inf=float('inf')\n",
    "graph=[[0,4,5,inf,inf],\n",
    "    [inf,0,3,9,inf],\n",
    "    [inf,inf,0,inf,1],\n",
    "    [inf,inf,2,0,inf],\n",
    "    [inf,inf,inf,8,0]]\n",
    "src=0\n",
    "min_path,distance=dijkstra(graph,src)\n",
    "print(str(src)+'到其他点的最短路径：\\n',min_path)\n",
    "print(str(src)+'到其他点的最短路径和：\\n',distance)"
   ]
  },
  {
   "cell_type": "code",
   "execution_count": null,
   "metadata": {},
   "outputs": [],
   "source": [
    "#上面的实现方法的时间复杂度过高！\n",
    "def dijkstra(graph,src):\n",
    "    pass"
   ]
  },
  {
   "cell_type": "markdown",
   "metadata": {},
   "source": [
    "## 最小生成树"
   ]
  },
  {
   "cell_type": "markdown",
   "metadata": {},
   "source": [
    "实际问题：需要在n个城市中建立一个通信网络，连通n个城市需要n-1条通信线路，如何在成本最低的情况下建立这个通信网？<br>\n",
    "\n",
    "分析：<br>\n",
    "1-n个城市可以看作图上的n个顶点,边表示两个城市的通信线路，边上的权重就是通信线路的成本<br>\n",
    "2-n个城市的连通需要n-1条边，每n-1条边就对应不同的生成树，每棵生成树都对应一种通信网的成本<br>\n",
    "3-成本最低的那棵树称作最小生成树<br>\n",
    "\n",
    "最小生成树：现有n个节点，需要n-1条边将n个节点连接起来，每条边都有权重，使总的权重和最小的方案即为最小生成树\n",
    "\n",
    "常用的解决方法：<br>\n",
    "1-Prim算法<br>\n",
    "2-Kruskal算法<br>\n",
    "\n",
    "Ref:https://blog.csdn.net/luoshixian099/article/details/51908175"
   ]
  },
  {
   "cell_type": "markdown",
   "metadata": {},
   "source": [
    "### Prim算法"
   ]
  },
  {
   "cell_type": "markdown",
   "metadata": {},
   "source": [
    "思想（加点法）：每次迭代选择代价最小的边对应的点，加入到最小生成树中,直到完成最小生成树的创建<br>\n",
    "1-图的顶点集合为V,u={s},v=V-u<br>\n",
    "2-在u和v中能够组合生成的边中，选择一条代价最小的边，加入到最小生成树中，并把节点加入到u中<br>\n",
    "3-重复step2直到完成n-1条边的选择\n",
    "\n",
    "\n",
    "时间复杂度：O(n<sup>2</sup>)<br>"
   ]
  },
  {
   "cell_type": "code",
   "execution_count": 12,
   "metadata": {},
   "outputs": [
    {
     "data": {
      "text/html": [
       "<img src='最小生成树-prim算法.png', width=800, height=300>"
      ],
      "text/plain": [
       "<IPython.core.display.HTML object>"
      ]
     },
     "metadata": {},
     "output_type": "display_data"
    }
   ],
   "source": [
    "%%html\n",
    "<img src='最小生成树-prim算法.png', width=800, height=300>"
   ]
  },
  {
   "cell_type": "markdown",
   "metadata": {},
   "source": [
    "### Kruskal算法"
   ]
  },
  {
   "cell_type": "markdown",
   "metadata": {},
   "source": [
    "思想（加边法）：每次迭代就选择一条满足条件的最小代价边，加入到最小生成树的边集合,直到完成最小生成树的创建<br>\n",
    "1-把图中的n个顶点看成独立的n棵树<br>\n",
    "2-按权值从小到大选择边,所选的边连接的两个顶点v<sub>i</sub>和v<sub>j</sub>应该是属于两棵不同的树（成为最小生成树的一条边），并将两棵树合成一棵<br>\n",
    "3-重复step2,直到完成n-1条边的选择\n",
    "\n",
    "时间复杂度：<br>\n",
    "空间复杂度："
   ]
  },
  {
   "cell_type": "code",
   "execution_count": 11,
   "metadata": {},
   "outputs": [
    {
     "data": {
      "text/html": [
       "<img src='最小生成树-Kruskal算法.png', width=800, height=300>"
      ],
      "text/plain": [
       "<IPython.core.display.HTML object>"
      ]
     },
     "metadata": {},
     "output_type": "display_data"
    }
   ],
   "source": [
    "%%html\n",
    "<img src='最小生成树-Kruskal算法.png', width=800, height=300>"
   ]
  }
 ],
 "metadata": {
  "kernelspec": {
   "display_name": "Python 3",
   "language": "python",
   "name": "python3"
  },
  "language_info": {
   "codemirror_mode": {
    "name": "ipython",
    "version": 3
   },
   "file_extension": ".py",
   "mimetype": "text/x-python",
   "name": "python",
   "nbconvert_exporter": "python",
   "pygments_lexer": "ipython3",
   "version": "3.6.5"
  },
  "latex_envs": {
   "LaTeX_envs_menu_present": true,
   "autoclose": false,
   "autocomplete": true,
   "bibliofile": "biblio.bib",
   "cite_by": "apalike",
   "current_citInitial": 1,
   "eqLabelWithNumbers": true,
   "eqNumInitial": 1,
   "hotkeys": {
    "equation": "Ctrl-E",
    "itemize": "Ctrl-I"
   },
   "labels_anchors": false,
   "latex_user_defs": false,
   "report_style_numbering": false,
   "user_envs_cfg": false
  }
 },
 "nbformat": 4,
 "nbformat_minor": 2
}
